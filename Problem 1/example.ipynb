{
 "cells": [
  {
   "cell_type": "code",
   "execution_count": 12,
   "metadata": {},
   "outputs": [],
   "source": [
    "import numpy as np\n",
    "import matplotlib.pyplot as plt\n",
    "import tensorflow as tf\n",
    "from tensorflow.keras.models import Sequential\n",
    "from tensorflow.keras.layers import Dense\n",
    "from tensorflow.keras.optimizers import SGD, Adam\n",
    "from tensorflow.keras.datasets import mnist\n",
    "from tensorflow.keras.utils import to_categorical"
   ]
  },
  {
   "cell_type": "code",
   "execution_count": 13,
   "metadata": {},
   "outputs": [],
   "source": [
    "(x_train, y_train), (x_test, y_test) = mnist.load_data()\n",
    "x_train = x_train.reshape((x_train.shape[0], -1)) / 255.0\n",
    "x_test = x_test.reshape((x_test.shape[0], -1)) / 255.0\n",
    "y_train = to_categorical(y_train, num_classes=10)\n",
    "y_test = to_categorical(y_test, num_classes=10)"
   ]
  },
  {
   "cell_type": "code",
   "execution_count": 14,
   "metadata": {},
   "outputs": [],
   "source": [
    "# build model with SGD optimizer method\n",
    "model_sgd = Sequential()\n",
    "model_sgd.add(Dense(128, input_shape=(784,), activation='relu'))\n",
    "model_sgd.add(Dense(10, activation='softmax'))\n",
    "sgd_optimizer = SGD(learning_rate=0.01)\n",
    "model_sgd.compile(optimizer=sgd_optimizer, loss='categorical_crossentropy', metrics=['accuracy'])\n",
    "history_sgd = model_sgd.fit(x_train, y_train, epochs=5, batch_size=32, validation_data=(x_test, y_test), verbose=0)"
   ]
  },
  {
   "cell_type": "code",
   "execution_count": 15,
   "metadata": {},
   "outputs": [],
   "source": [
    "# build model with Adam optimizer method\n",
    "model_adam = Sequential()\n",
    "model_adam.add(Dense(128, input_shape=(784,), activation='relu'))\n",
    "model_adam.add(Dense(10, activation='softmax'))\n",
    "adam_optimizer = Adam(learning_rate=0.001)\n",
    "model_adam.compile(optimizer=adam_optimizer, loss='categorical_crossentropy', metrics=['accuracy'])\n",
    "history_adam = model_adam.fit(x_train, y_train, epochs=5, batch_size=32, validation_data=(x_test, y_test), verbose=0)"
   ]
  },
  {
   "cell_type": "code",
   "execution_count": 16,
   "metadata": {},
   "outputs": [
    {
     "name": "stdout",
     "output_type": "stream",
     "text": [
      "Accuracy with SGD: 0.9394000172615051\n",
      "Accuracy with Adam: 0.9778000116348267\n"
     ]
    }
   ],
   "source": [
    "# Evaluate the model on the test set\n",
    "accuracy_sgd = model_sgd.evaluate(x_test, y_test, verbose=0)[1]\n",
    "accuracy_adam = model_adam.evaluate(x_test, y_test, verbose=0)[1]\n",
    "\n",
    "print(f\"Accuracy with SGD: {accuracy_sgd}\")\n",
    "print(f\"Accuracy with Adam: {accuracy_adam}\")"
   ]
  },
  {
   "cell_type": "code",
   "execution_count": 17,
   "metadata": {},
   "outputs": [
    {
     "name": "stdout",
     "output_type": "stream",
     "text": [
      "313/313 [==============================] - 1s 2ms/step\n",
      "313/313 [==============================] - 1s 2ms/step\n"
     ]
    },
    {
     "data": {
      "image/png": "[encoded data removed]",
      "text/plain": [
       "<Figure size 720x432 with 10 Axes>"
      ]
     },
     "metadata": {
      "needs_background": "light"
     },
     "output_type": "display_data"
    }
   ],
   "source": [
    "# Get the model's prediction on the test set\n",
    "y_pred_sgd = model_sgd.predict(x_test)\n",
    "y_pred_adam = model_adam.predict(x_test)\n",
    "\n",
    "# Get the index of incorrectly predicted samples\n",
    "misclassified_sgd = np.where(np.argmax(y_pred_sgd, axis=1) != np.argmax(y_test, axis=1))[0]\n",
    "misclassified_adam = np.where(np.argmax(y_pred_adam, axis=1) != np.argmax(y_test, axis=1))[0]\n",
    "\n",
    "# Show some incorrectly predicted images\n",
    "plt.figure(figsize=(10, 6))\n",
    "\n",
    "for i in range(5):\n",
    "    plt.subplot(2, 5, i + 1)\n",
    "    plt.imshow(x_test[misclassified_sgd[i]].reshape((28, 28)), cmap='gray')\n",
    "    plt.title(f\"SGD: {np.argmax(y_test[misclassified_sgd[i]])} -> {np.argmax(y_pred_sgd[misclassified_sgd[i]])}\")\n",
    "    plt.axis('off')\n",
    "\n",
    "    plt.subplot(2, 5, i + 6)\n",
    "    plt.imshow(x_test[misclassified_adam[i]].reshape((28, 28)), cmap='gray')\n",
    "    plt.title(f\"Adam: {np.argmax(y_test[misclassified_adam[i]])} -> {np.argmax(y_pred_adam[misclassified_adam[i]])}\")\n",
    "    plt.axis('off')\n",
    "\n",
    "plt.tight_layout()\n",
    "plt.show()"
   ]
  }
 ],
 "metadata": {
  "kernelspec": {
   "display_name": "Python 3",
   "language": "python",
   "name": "python3"
  },
  "language_info": {
   "codemirror_mode": {
    "name": "ipython",
    "version": 3
   },
   "file_extension": ".py",
   "mimetype": "text/x-python",
   "name": "python",
   "nbconvert_exporter": "python",
   "pygments_lexer": "ipython3",
   "version": "3.10.11"
  }
 },
 "nbformat": 4,
 "nbformat_minor": 2
}
